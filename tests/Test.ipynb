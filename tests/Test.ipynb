{
 "cells": [
  {
   "cell_type": "code",
   "execution_count": 1,
   "id": "8252c962-f44c-410c-8e23-bb93fd43a013",
   "metadata": {},
   "outputs": [],
   "source": [
    "#test pip install "
   ]
  },
  {
   "cell_type": "code",
   "execution_count": 10,
   "id": "874e745e-6634-4f63-8e71-bcb2383cd7b3",
   "metadata": {},
   "outputs": [
    {
     "name": "stdout",
     "output_type": "stream",
     "text": [
      "Defaulting to user installation because normal site-packages is not writeable\n",
      "Collecting pyIRT_SDT\n",
      "  Downloading PyIRT_SDT-0.1.4-py3-none-any.whl.metadata (5.7 kB)\n",
      "Downloading PyIRT_SDT-0.1.4-py3-none-any.whl (17 kB)\n",
      "Installing collected packages: pyIRT_SDT\n",
      "  Attempting uninstall: pyIRT_SDT\n",
      "    Found existing installation: pyirt-sdt 0.1.3\n",
      "    Uninstalling pyirt-sdt-0.1.3:\n",
      "      Successfully uninstalled pyirt-sdt-0.1.3\n",
      "Successfully installed pyIRT_SDT-0.1.4\n"
     ]
    }
   ],
   "source": [
    "!pip install pyIRT_SDT  --upgrade --force-reinstall"
   ]
  },
  {
   "cell_type": "code",
   "execution_count": 1,
   "id": "1a45d251-523d-4ea4-aceb-721d0a597f54",
   "metadata": {},
   "outputs": [
    {
     "name": "stdout",
     "output_type": "stream",
     "text": [
      "Available functions in pyirt_sdt:\n",
      "- auc\n",
      "- calculate_item_information\n",
      "- calculate_sdt_results\n",
      "- check_convergence\n",
      "- compareRuns\n",
      "- correlationOfParametersByPerformance\n",
      "- curve_fit\n",
      "- custom_roc_curve\n",
      "- delayed\n",
      "- distributionsOfEstimatedItemParameters\n",
      "- export_object_to_csv\n",
      "- four_param_logistic\n",
      "- initialize_history_arrays\n",
      "- initialize_thetas\n",
      "- parallel_estimate_parameters\n",
      "- plot_convergence\n",
      "- plot_discriminability\n",
      "- plot_information_curves\n",
      "- plot_item_with_model\n",
      "- plot_sample_parameter_convergence\n",
      "- returnTable\n",
      "- roc_auc_score\n",
      "- roc_curve\n",
      "- solve_IRT_for_matrix\n",
      "- three_param_logistic\n",
      "- timeCourseOfParameterConvergence\n",
      "- update_history_arrays\n",
      "- update_thetas\n",
      "- writetolog\n",
      "\n",
      "Available classes in pyirt_sdt:\n",
      "- Parallel\n"
     ]
    }
   ],
   "source": [
    "import pyirt_sdt\n",
    "import inspect\n",
    "\n",
    "# Get all members of the pyirt_sdt module\n",
    "members = inspect.getmembers(pyirt_sdt)\n",
    "\n",
    "# Filter for functions and classes\n",
    "functions = [name for name, obj in members if inspect.isfunction(obj)]\n",
    "classes = [name for name, obj in members if inspect.isclass(obj)]\n",
    "\n",
    "print(\"Available functions in pyirt_sdt:\")\n",
    "for func in functions:\n",
    "    print(f\"- {func}\")\n",
    "\n",
    "print(\"\\nAvailable classes in pyirt_sdt:\")\n",
    "for cls in classes:\n",
    "    print(f\"- {cls}\")\n",
    "\n",
    "# If you want to see more details about a specific function or class, you can use:\n",
    "# help(pyirt_sdt.function_name)\n",
    "# For example:\n",
    "# help(pyirt_sdt.returnTable)"
   ]
  },
  {
   "cell_type": "code",
   "execution_count": null,
   "id": "4b23d839-fa79-4aec-8e51-6a194b516272",
   "metadata": {},
   "outputs": [],
   "source": []
  },
  {
   "cell_type": "code",
   "execution_count": null,
   "id": "f1732c23-aa37-496a-ad95-c6b4050561c3",
   "metadata": {},
   "outputs": [],
   "source": []
  },
  {
   "cell_type": "code",
   "execution_count": null,
   "id": "1e9effcc-91f3-4cb8-93fe-5312865b0820",
   "metadata": {},
   "outputs": [],
   "source": []
  },
  {
   "cell_type": "code",
   "execution_count": null,
   "id": "d5b82052-192b-418d-b9bc-84e66e4b1b7e",
   "metadata": {},
   "outputs": [],
   "source": []
  }
 ],
 "metadata": {
  "kernelspec": {
   "display_name": "Python 3 (ipykernel)",
   "language": "python",
   "name": "python3"
  },
  "language_info": {
   "codemirror_mode": {
    "name": "ipython",
    "version": 3
   },
   "file_extension": ".py",
   "mimetype": "text/x-python",
   "name": "python",
   "nbconvert_exporter": "python",
   "pygments_lexer": "ipython3",
   "version": "3.12.4"
  }
 },
 "nbformat": 4,
 "nbformat_minor": 5
}
